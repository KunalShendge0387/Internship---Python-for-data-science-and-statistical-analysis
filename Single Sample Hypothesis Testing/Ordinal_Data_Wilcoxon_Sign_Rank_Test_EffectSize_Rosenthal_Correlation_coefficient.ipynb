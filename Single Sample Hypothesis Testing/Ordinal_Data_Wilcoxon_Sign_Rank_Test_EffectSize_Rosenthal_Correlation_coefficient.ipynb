{
  "nbformat": 4,
  "nbformat_minor": 0,
  "metadata": {
    "colab": {
      "provenance": []
    },
    "kernelspec": {
      "name": "python3",
      "display_name": "Python 3"
    },
    "language_info": {
      "name": "python"
    }
  },
  "cells": [
    {
      "cell_type": "code",
      "execution_count": 1,
      "metadata": {
        "colab": {
          "base_uri": "https://localhost:8080/"
        },
        "id": "aoTnBGBhmIGC",
        "outputId": "89caaaf3-d0ad-490a-bfed-754af9d28411"
      },
      "outputs": [
        {
          "output_type": "stream",
          "name": "stderr",
          "text": [
            "<ipython-input-1-d0dee6025a61>:3: DtypeWarning: Columns (11,115,123,187,274,284,287,288,290,291,292,397,585,595,628,632) have mixed types. Specify dtype option on import or set low_memory=False.\n",
            "  data = pandas.read_csv(\"GSS2012a.csv\")\n"
          ]
        },
        {
          "output_type": "execute_result",
          "data": {
            "text/plain": [
              "accntsci\n",
              "Not too scientific       348\n",
              "Not scientific at all    307\n",
              "Pretty scientific        199\n",
              "Very scientific          100\n",
              "Name: count, dtype: int64"
            ]
          },
          "metadata": {},
          "execution_count": 1
        }
      ],
      "source": [
        "import pandas\n",
        "\n",
        "data = pandas.read_csv(\"GSS2012a.csv\")\n",
        "\n",
        "ordinal_data = data['accntsci']\n",
        "\n",
        "ordinal_data.value_counts()"
      ]
    },
    {
      "cell_type": "code",
      "source": [
        "ordinal_data.value_counts().index"
      ],
      "metadata": {
        "colab": {
          "base_uri": "https://localhost:8080/"
        },
        "id": "lGcjhERonIPB",
        "outputId": "b4d2af4f-db66-46cf-a4ea-56a6348b9e1c"
      },
      "execution_count": 2,
      "outputs": [
        {
          "output_type": "execute_result",
          "data": {
            "text/plain": [
              "Index(['Not too scientific', 'Not scientific at all', 'Pretty scientific',\n",
              "       'Very scientific'],\n",
              "      dtype='object', name='accntsci')"
            ]
          },
          "metadata": {},
          "execution_count": 2
        }
      ]
    },
    {
      "cell_type": "code",
      "source": [
        "ordinal_data = ordinal_data.replace({'Not too scientific': 1, 'Not scientific at all': 0, 'Pretty scientific': 2,\n",
        "       'Very scientific': 3})"
      ],
      "metadata": {
        "id": "tPrAlru-nCEP"
      },
      "execution_count": 4,
      "outputs": []
    },
    {
      "cell_type": "code",
      "source": [
        "# Research Question - The median value of the data is equal to x (Hypothetical Median)\n",
        "\n",
        "# H0 - The median value of the data is not different from x (Hypothetical Median)\n",
        "# H1 - The median value of the data is different from x (Hypothetical Median)\n",
        "\n",
        "# pvalue < 0.05\n",
        "# effect size - Negligible, Small, Medium, Large"
      ],
      "metadata": {
        "id": "Z-rrW4mDnpqQ"
      },
      "execution_count": 5,
      "outputs": []
    },
    {
      "cell_type": "code",
      "source": [
        "from scipy.stats import wilcoxon\n",
        "\n",
        "x = 2.5\n",
        "\n",
        "ordinal_data = ordinal_data.dropna()\n",
        "\n",
        "wilcoxon(ordinal_data-2.5, zero_method = 'wilcox')"
      ],
      "metadata": {
        "colab": {
          "base_uri": "https://localhost:8080/"
        },
        "id": "6tgJ6n7BoWHq",
        "outputId": "3e0ed712-89a9-485a-d613-0676ca390921"
      },
      "execution_count": 6,
      "outputs": [
        {
          "output_type": "execute_result",
          "data": {
            "text/plain": [
              "WilcoxonResult(statistic=15000.0, pvalue=8.376600483105338e-142)"
            ]
          },
          "metadata": {},
          "execution_count": 6
        }
      ]
    },
    {
      "cell_type": "code",
      "source": [
        "statistic=15000.0\n",
        "pvalue=8.376600483105338e-142\n",
        "\n",
        "# pvalue < 0.05, reject null hypothesis\n",
        "\n",
        "# effect size - Negligible, Small, Medium, Large\n",
        "# rosenthal correlation coefficient"
      ],
      "metadata": {
        "id": "hyHXnbeZo7hH"
      },
      "execution_count": 7,
      "outputs": []
    },
    {
      "cell_type": "code",
      "source": [
        "from scipy.stats import norm\n",
        "\n",
        "Z = norm.ppf(pvalue/2)\n",
        "\n",
        "#sample size\n",
        "n = len(ordinal_data)\n",
        "\n",
        "r_ros = abs(Z / n ** 0.5)\n",
        "\n",
        "if r_ros < .20:\n",
        "    qual = 'very low'\n",
        "elif r_ros < .40:\n",
        "    qual = 'low'\n",
        "elif r_ros < .60:\n",
        "    qual = 'moderate'\n",
        "elif r_ros < .80:\n",
        "    qual = 'strong'\n",
        "else:\n",
        "    qual = 'Very strong'\n",
        "qual"
      ],
      "metadata": {
        "colab": {
          "base_uri": "https://localhost:8080/",
          "height": 36
        },
        "id": "bvAgrFh_p6HJ",
        "outputId": "18b543d7-0d24-4e7f-e580-58443f573682"
      },
      "execution_count": 9,
      "outputs": [
        {
          "output_type": "execute_result",
          "data": {
            "text/plain": [
              "'Very strong'"
            ],
            "application/vnd.google.colaboratory.intrinsic+json": {
              "type": "string"
            }
          },
          "metadata": {},
          "execution_count": 9
        }
      ]
    },
    {
      "cell_type": "markdown",
      "source": [
        "A one-sample Wilcoxon signed-rank test indicated that the median was significantly different from 2.5, p < .001, and the rosenthal correlation coefficient indicates t a very strong effect size."
      ],
      "metadata": {
        "id": "Ir8Wr-vgrBGP"
      }
    }
  ]
}