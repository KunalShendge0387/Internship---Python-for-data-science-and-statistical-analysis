{
  "nbformat": 4,
  "nbformat_minor": 0,
  "metadata": {
    "colab": {
      "provenance": []
    },
    "kernelspec": {
      "name": "python3",
      "display_name": "Python 3"
    },
    "language_info": {
      "name": "python"
    }
  },
  "cells": [
    {
      "cell_type": "code",
      "execution_count": null,
      "metadata": {
        "id": "6LtgU6KUgoaq"
      },
      "outputs": [],
      "source": [
        "import pandas\n",
        "\n",
        "data = pandas.read_csv(\"GSS2012a.csv\")\n",
        "\n",
        "scalevar = data['age'].dropna()\n",
        "\n",
        "scalevar = scalevar.replace({'89 OR OLDER': 90})"
      ]
    },
    {
      "cell_type": "code",
      "source": [
        "from scipy.stats import ttest_1samp\n",
        "\n",
        "'''\n",
        "Research Question - The average age of the population is 45\n",
        "\n",
        "H0 - The average age of the population is 45\n",
        "Ha - The average age of the population is not 45\n",
        "\n",
        "pvalue < 0.05 -> Reject H0\n",
        "\n",
        "pvalue > 0.05 -> Accept H0\n",
        "\n",
        "Effect size - Cohen d\n",
        "'''\n",
        "scalevar = pandas.to_numeric(scalevar) # there are string values in dataset so to convert the string into int values\n",
        "ttest_1samp(scalevar, popmean = 45)"
      ],
      "metadata": {
        "colab": {
          "base_uri": "https://localhost:8080/"
        },
        "id": "l_QtYyirh268",
        "outputId": "2a420db9-af0d-4a56-ef4c-8ca1e0a5b623"
      },
      "execution_count": 4,
      "outputs": [
        {
          "output_type": "execute_result",
          "data": {
            "text/plain": [
              "TtestResult(statistic=8.022891023250635, pvalue=1.7566438579204372e-15, df=1968)"
            ]
          },
          "metadata": {},
          "execution_count": 4
        }
      ]
    },
    {
      "cell_type": "code",
      "source": [
        "statistic=8.022891023250635\n",
        "pvalue=1.7566438579204372e-15\n",
        "\n",
        "pvalue < 0.05\n",
        "# H0 is rejected"
      ],
      "metadata": {
        "colab": {
          "base_uri": "https://localhost:8080/"
        },
        "id": "fyzTqd9KjMzl",
        "outputId": "07cd6b92-d1a1-4878-c4db-5f1fc1f7835f"
      },
      "execution_count": 6,
      "outputs": [
        {
          "output_type": "execute_result",
          "data": {
            "text/plain": [
              "True"
            ]
          },
          "metadata": {},
          "execution_count": 6
        }
      ]
    },
    {
      "cell_type": "code",
      "source": [
        "# Mean\n",
        "m = scalevar.mean()\n",
        "\n",
        "# Standard deviation\n",
        "s = scalevar.std()\n",
        "\n",
        "# Effect Size\n",
        "\n",
        "mean_pop = 45\n",
        "temp = (m - mean_pop) / s\n",
        "cohen_d = abs(temp * 2**0.5)\n",
        "\n",
        "if abs(cohen_d ) < 0.20:\n",
        "    print('Negligible')\n",
        "elif abs(cohen_d ) < 0.50:\n",
        "    print('Small')\n",
        "elif abs(cohen_d ) < 0.80:\n",
        "    print('Medium')\n",
        "else:\n",
        "    print('Large')"
      ],
      "metadata": {
        "colab": {
          "base_uri": "https://localhost:8080/"
        },
        "id": "sbdq-9S4j6L3",
        "outputId": "8184730a-deba-4df8-be7b-252fa879ff05"
      },
      "execution_count": 8,
      "outputs": [
        {
          "output_type": "stream",
          "name": "stdout",
          "text": [
            "Small\n"
          ]
        }
      ]
    }
  ]
}